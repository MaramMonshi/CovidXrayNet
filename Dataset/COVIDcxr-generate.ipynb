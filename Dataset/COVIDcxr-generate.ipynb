{
 "cells": [
  {
   "cell_type": "markdown",
   "metadata": {},
   "source": [
    "# Generate COVIDcxr Dataset"
   ]
  },
  {
   "cell_type": "code",
   "execution_count": 1,
   "metadata": {},
   "outputs": [],
   "source": [
    "import numpy as np\n",
    "import pandas as pd\n",
    "import os\n",
    "import random \n",
    "from shutil import copyfile\n",
    "import pydicom as dicom\n",
    "import cv2\n",
    "from fastai2.vision.all import *"
   ]
  },
  {
   "cell_type": "markdown",
   "metadata": {},
   "source": [
    "## 1. COVID-19 Images"
   ]
  },
  {
   "cell_type": "markdown",
   "metadata": {},
   "source": [
    "##### Download covid-19 image data collection from: https://github.com/ieee8023/covid-chestxray-dataset"
   ]
  },
  {
   "cell_type": "code",
   "execution_count": 12,
   "metadata": {},
   "outputs": [
    {
     "name": "stdout",
     "output_type": "stream",
     "text": [
      "<class 'pandas.core.frame.DataFrame'>\n",
      "RangeIndex: 930 entries, 0 to 929\n",
      "Data columns (total 29 columns):\n",
      " #   Column                  Non-Null Count  Dtype  \n",
      "---  ------                  --------------  -----  \n",
      " 0   patientid               930 non-null    object \n",
      " 1   offset                  684 non-null    float64\n",
      " 2   sex                     850 non-null    object \n",
      " 3   age                     693 non-null    float64\n",
      " 4   finding                 930 non-null    object \n",
      " 5   RT_PCR_positive         582 non-null    object \n",
      " 6   survival                358 non-null    object \n",
      " 7   intubated               243 non-null    object \n",
      " 8   intubation_present      246 non-null    object \n",
      " 9   went_icu                392 non-null    object \n",
      " 10  in_icu                  331 non-null    object \n",
      " 11  needed_supplemental_O2  88 non-null     object \n",
      " 12  extubated               37 non-null     object \n",
      " 13  temperature             74 non-null     float64\n",
      " 14  pO2_saturation          119 non-null    float64\n",
      " 15  leukocyte_count         16 non-null     float64\n",
      " 16  neutrophil_count        28 non-null     float64\n",
      " 17  lymphocyte_count        37 non-null     float64\n",
      " 18  view                    930 non-null    object \n",
      " 19  modality                930 non-null    object \n",
      " 20  date                    650 non-null    object \n",
      " 21  location                877 non-null    object \n",
      " 22  folder                  930 non-null    object \n",
      " 23  filename                930 non-null    object \n",
      " 24  doi                     382 non-null    object \n",
      " 25  url                     930 non-null    object \n",
      " 26  license                 685 non-null    object \n",
      " 27  clinical_notes          748 non-null    object \n",
      " 28  other_notes             424 non-null    object \n",
      "dtypes: float64(7), object(22)\n",
      "memory usage: 210.8+ KB\n"
     ]
    }
   ],
   "source": [
    "# view csv file\n",
    "covid19_csvpath = '/home/jupyter/covid-chestxray-dataset/metadata.csv'\n",
    "dfcovid = pd.read_csv(covid19_csvpath)\n",
    "dfcovid.info()"
   ]
  },
  {
   "cell_type": "code",
   "execution_count": 13,
   "metadata": {},
   "outputs": [],
   "source": [
    "# clean the csv file \n",
    "## drop CT images\n",
    "dfcovid = dfcovid[dfcovid.modality != 'CT']\n",
    "## drop other findings such as ARDS & Lateral View\n",
    "dfcovid = dfcovid[dfcovid.finding == 'COVID-19']\n",
    "dfcovid = dfcovid[dfcovid.view != 'L'] #23\n",
    "## drop unused columns\n",
    "dfcovid = dfcovid.drop([\"offset\", \"RT_PCR_positive\", \"survival\", \"intubated\", \"intubation_present\", \"went_icu\", \"in_icu\", \n",
    "              \"needed_supplemental_O2\", \"extubated\",\"temperature\", \n",
    "              \"pO2_saturation\", \"leukocyte_count\", \"neutrophil_count\", \"lymphocyte_count\", \n",
    "              \"modality\", \"date\", \"location\", \"folder\", \"doi\",\n",
    "              \"url\", \"license\", \"clinical_notes\", \"other_notes\"], axis=1)\n",
    "## drop NULL values\n",
    "dfcovid = dfcovid.dropna(subset=['age']) \n",
    "dfcovid = dfcovid.dropna(subset=['sex']) \n",
    "dfcovid = dfcovid.dropna(subset=['view']) \n",
    "## re-name columns\n",
    "dfcovid = dfcovid.rename(columns={\"filename\": \"path\"})\n",
    "## re-order columns\n",
    "dfcovid = dfcovid[['path', 'finding', 'age', 'sex', 'view', 'patientid']]\n",
    "## save dfcovid as a new clean csv\n",
    "dfcovid.to_csv( \"/home/jupyter/CovidXrayNet/covid.csv\", index=False, encoding='utf-8-sig') "
   ]
  },
  {
   "cell_type": "code",
   "execution_count": 14,
   "metadata": {},
   "outputs": [
    {
     "name": "stdout",
     "output_type": "stream",
     "text": [
      "<class 'pandas.core.frame.DataFrame'>\n",
      "Int64Index: 320 entries, 0 to 919\n",
      "Data columns (total 6 columns):\n",
      " #   Column     Non-Null Count  Dtype  \n",
      "---  ------     --------------  -----  \n",
      " 0   path       320 non-null    object \n",
      " 1   finding    320 non-null    object \n",
      " 2   age        320 non-null    float64\n",
      " 3   sex        320 non-null    object \n",
      " 4   view       320 non-null    object \n",
      " 5   patientid  320 non-null    object \n",
      "dtypes: float64(1), object(5)\n",
      "memory usage: 17.5+ KB\n"
     ]
    },
    {
     "data": {
      "text/plain": [
       "(None,\n",
       " path         0\n",
       " finding      0\n",
       " age          0\n",
       " sex          0\n",
       " view         0\n",
       " patientid    0\n",
       " dtype: int64,\n",
       " COVID-19    320\n",
       " Name: finding, dtype: int64,\n",
       " 65.0    20\n",
       " 70.0    19\n",
       " 55.0    18\n",
       " 50.0    18\n",
       " 61.0    12\n",
       "         ..\n",
       " 41.0     1\n",
       " 31.0     1\n",
       " 84.0     1\n",
       " 33.0     1\n",
       " 57.0     1\n",
       " Name: age, Length: 62, dtype: int64,\n",
       " M    213\n",
       " F    107\n",
       " Name: sex, dtype: int64,\n",
       " AP           119\n",
       " PA           117\n",
       " AP Supine     84\n",
       " Name: view, dtype: int64)"
      ]
     },
     "execution_count": 14,
     "metadata": {},
     "output_type": "execute_result"
    }
   ],
   "source": [
    "## view covid.csv\n",
    "dfcovid.info(), dfcovid.isnull().sum() ,dfcovid['finding'].value_counts(), dfcovid['age'].value_counts(), dfcovid['sex'].value_counts(), dfcovid['view'].value_counts()"
   ]
  },
  {
   "cell_type": "markdown",
   "metadata": {},
   "source": [
    "## 2. Pnumenia and Healthy Images"
   ]
  },
  {
   "cell_type": "markdown",
   "metadata": {},
   "source": [
    "##### Download ChestX-ray14 dataset from: https://www.kaggle.com/nih-chest-xrays/data"
   ]
  },
  {
   "cell_type": "code",
   "execution_count": 23,
   "metadata": {},
   "outputs": [
    {
     "name": "stdout",
     "output_type": "stream",
     "text": [
      "<class 'pandas.core.frame.DataFrame'>\n",
      "RangeIndex: 112120 entries, 0 to 112119\n",
      "Data columns (total 12 columns):\n",
      " #   Column                       Non-Null Count   Dtype  \n",
      "---  ------                       --------------   -----  \n",
      " 0   Image Index                  112120 non-null  object \n",
      " 1   Finding Labels               112120 non-null  object \n",
      " 2   Follow-up #                  112120 non-null  int64  \n",
      " 3   Patient ID                   112120 non-null  int64  \n",
      " 4   Patient Age                  112120 non-null  int64  \n",
      " 5   Patient Gender               112120 non-null  object \n",
      " 6   View Position                112120 non-null  object \n",
      " 7   OriginalImage[Width          112120 non-null  int64  \n",
      " 8   Height]                      112120 non-null  int64  \n",
      " 9   OriginalImagePixelSpacing[x  112120 non-null  float64\n",
      " 10  y]                           112120 non-null  float64\n",
      " 11  Unnamed: 11                  0 non-null       float64\n",
      "dtypes: float64(3), int64(5), object(4)\n",
      "memory usage: 10.3+ MB\n"
     ]
    }
   ],
   "source": [
    "# view chestxray14 csv file\n",
    "chestxray14_csvpath = '/home/jupyter/Data_Entry_2017.csv'\n",
    "dfpnumenia = pd.read_csv(chestxray14_csvpath)\n",
    "dfpnumenia.info()"
   ]
  },
  {
   "cell_type": "code",
   "execution_count": 24,
   "metadata": {},
   "outputs": [],
   "source": [
    "# drop unused columns\n",
    "dfpnumenia = dfpnumenia.drop([\"Follow-up #\", \"OriginalImage[Width\", \"Height]\", \n",
    "              \"OriginalImagePixelSpacing[x\",\"y]\", \"Unnamed: 11\"], axis=1)\n",
    "# arrange columns\n",
    "dfpnumenia = dfpnumenia[['Image Index', 'Finding Labels', 'Patient Age', 'Patient Gender', \n",
    "         'View Position', 'Patient ID']]\n",
    "# rename columns\n",
    "dfpnumenia = dfpnumenia.rename(columns={\"Image Index\": \"path\", \"Finding Labels\": \"finding\", \n",
    "                        \"Patient Age\": \"age\", \"Patient Gender\": \"sex\",\n",
    "                        \"View Position\": \"view\", \"Patient ID\": \"patientid\"})\n",
    "# 1. pnumenia\n",
    "dfpnumenia = dfpnumenia[dfpnumenia.finding == 'Pneumonia']\n",
    "dfpnumenia = dfpnumenia.drop(dfpnumenia.index[320:])\n",
    "dfpnumenia.to_csv( \"/home/jupyter/CovidXrayNet/pneumonia.csv\", index=False, encoding='utf-8-sig')"
   ]
  },
  {
   "cell_type": "code",
   "execution_count": 26,
   "metadata": {},
   "outputs": [
    {
     "name": "stdout",
     "output_type": "stream",
     "text": [
      "<class 'pandas.core.frame.DataFrame'>\n",
      "Int64Index: 320 entries, 279 to 109877\n",
      "Data columns (total 6 columns):\n",
      " #   Column     Non-Null Count  Dtype \n",
      "---  ------     --------------  ----- \n",
      " 0   path       320 non-null    object\n",
      " 1   finding    320 non-null    object\n",
      " 2   age        320 non-null    int64 \n",
      " 3   sex        320 non-null    object\n",
      " 4   view       320 non-null    object\n",
      " 5   patientid  320 non-null    int64 \n",
      "dtypes: int64(2), object(4)\n",
      "memory usage: 17.5+ KB\n"
     ]
    },
    {
     "data": {
      "text/plain": [
       "(None,\n",
       " path         0\n",
       " finding      0\n",
       " age          0\n",
       " sex          0\n",
       " view         0\n",
       " patientid    0\n",
       " dtype: int64,\n",
       " Pneumonia    320\n",
       " Name: finding, dtype: int64,\n",
       " 33    12\n",
       " 46     9\n",
       " 44     9\n",
       " 50     9\n",
       " 63     8\n",
       "       ..\n",
       " 75     1\n",
       " 77     1\n",
       " 79     1\n",
       " 82     1\n",
       " 3      1\n",
       " Name: age, Length: 78, dtype: int64,\n",
       " M    193\n",
       " F    127\n",
       " Name: sex, dtype: int64,\n",
       " PA    176\n",
       " AP    144\n",
       " Name: view, dtype: int64)"
      ]
     },
     "execution_count": 26,
     "metadata": {},
     "output_type": "execute_result"
    }
   ],
   "source": [
    "dfpnumenia.info(), dfpnumenia.isnull().sum(), dfpnumenia['finding'].value_counts(), dfpnumenia['age'].value_counts(), dfpnumenia['sex'].value_counts(), dfpnumenia['view'].value_counts()"
   ]
  },
  {
   "cell_type": "code",
   "execution_count": 27,
   "metadata": {},
   "outputs": [],
   "source": [
    "# read chestxray14 csv file\n",
    "chestxray14_csvpath = '/home/jupyter/Data_Entry_2017.csv'\n",
    "dfhealthy = pd.read_csv(chestxray14_csvpath)\n",
    "# drop unused columns\n",
    "dfhealthy = dfhealthy.drop([\"Follow-up #\", \"OriginalImage[Width\", \"Height]\", \n",
    "              \"OriginalImagePixelSpacing[x\",\"y]\", \"Unnamed: 11\"], axis=1)\n",
    "# arrange columns\n",
    "dfhealthy = dfhealthy[['Image Index', 'Finding Labels', 'Patient Age', 'Patient Gender', \n",
    "         'View Position', 'Patient ID']]\n",
    "# rename columns\n",
    "dfhealthy = dfhealthy.rename(columns={\"Image Index\": \"path\", \"Finding Labels\": \"finding\", \n",
    "                        \"Patient Age\": \"age\", \"Patient Gender\": \"sex\",\n",
    "                        \"View Position\": \"view\", \"Patient ID\": \"patientid\"})\n",
    "# 2. healthy\n",
    "dfhealthy = dfhealthy[dfhealthy.finding == 'No Finding']\n",
    "dfhealthy = dfhealthy.drop(dfhealthy.index[320:])\n",
    "dfhealthy.to_csv( \"/home/jupyter/CovidXrayNet/healthy.csv\", index=False, encoding='utf-8-sig')"
   ]
  },
  {
   "cell_type": "code",
   "execution_count": 28,
   "metadata": {},
   "outputs": [
    {
     "name": "stdout",
     "output_type": "stream",
     "text": [
      "<class 'pandas.core.frame.DataFrame'>\n",
      "Int64Index: 320 entries, 3 to 787\n",
      "Data columns (total 6 columns):\n",
      " #   Column     Non-Null Count  Dtype \n",
      "---  ------     --------------  ----- \n",
      " 0   path       320 non-null    object\n",
      " 1   finding    320 non-null    object\n",
      " 2   age        320 non-null    int64 \n",
      " 3   sex        320 non-null    object\n",
      " 4   view       320 non-null    object\n",
      " 5   patientid  320 non-null    int64 \n",
      "dtypes: int64(2), object(4)\n",
      "memory usage: 17.5+ KB\n"
     ]
    },
    {
     "data": {
      "text/plain": [
       "(None,\n",
       " path         0\n",
       " finding      0\n",
       " age          0\n",
       " sex          0\n",
       " view         0\n",
       " patientid    0\n",
       " dtype: int64,\n",
       " No Finding    320\n",
       " Name: finding, dtype: int64,\n",
       " 55    25\n",
       " 50    23\n",
       " 70    18\n",
       " 71    15\n",
       " 73    15\n",
       " 67    13\n",
       " 75    13\n",
       " 64    12\n",
       " 69    12\n",
       " 61    10\n",
       " 77     9\n",
       " 68     9\n",
       " 62     8\n",
       " 52     8\n",
       " 54     8\n",
       " 56     7\n",
       " 58     7\n",
       " 60     7\n",
       " 53     7\n",
       " 63     7\n",
       " 76     6\n",
       " 65     6\n",
       " 66     5\n",
       " 81     5\n",
       " 74     5\n",
       " 46     4\n",
       " 83     4\n",
       " 59     4\n",
       " 57     4\n",
       " 78     4\n",
       " 87     3\n",
       " 92     3\n",
       " 51     3\n",
       " 48     2\n",
       " 49     2\n",
       " 42     2\n",
       " 32     2\n",
       " 31     2\n",
       " 94     2\n",
       " 72     2\n",
       " 79     2\n",
       " 82     2\n",
       " 85     2\n",
       " 80     1\n",
       " 84     1\n",
       " 47     1\n",
       " 45     1\n",
       " 89     1\n",
       " 34     1\n",
       " 33     1\n",
       " 90     1\n",
       " 91     1\n",
       " 30     1\n",
       " 25     1\n",
       " Name: age, dtype: int64,\n",
       " M    162\n",
       " F    158\n",
       " Name: sex, dtype: int64,\n",
       " PA    230\n",
       " AP     90\n",
       " Name: view, dtype: int64)"
      ]
     },
     "execution_count": 28,
     "metadata": {},
     "output_type": "execute_result"
    }
   ],
   "source": [
    "dfhealthy.info(), dfhealthy.isnull().sum(), dfhealthy['finding'].value_counts(), dfhealthy['age'].value_counts(), dfhealthy['sex'].value_counts(), dfhealthy['view'].value_counts()"
   ]
  },
  {
   "cell_type": "markdown",
   "metadata": {},
   "source": [
    "## 3. Combine Images  "
   ]
  },
  {
   "cell_type": "code",
   "execution_count": 2,
   "metadata": {},
   "outputs": [],
   "source": [
    "# view all csv files\n",
    "path = Path('/home/jupyter/CovidXrayNet')\n",
    "os.chdir(\"/home/jupyter/CovidXrayNet\") \n",
    "df_covid19 = pd.read_csv(path/'covid19.csv') \n",
    "df_pneumonia = pd.read_csv(path/'pneumonia.csv') \n",
    "df_healthy = pd.read_csv(path/'healthy.csv')"
   ]
  },
  {
   "cell_type": "code",
   "execution_count": 9,
   "metadata": {},
   "outputs": [
    {
     "name": "stdout",
     "output_type": "stream",
     "text": [
      "<class 'pandas.core.frame.DataFrame'>\n",
      "RangeIndex: 320 entries, 0 to 319\n",
      "Data columns (total 6 columns):\n",
      " #   Column     Non-Null Count  Dtype  \n",
      "---  ------     --------------  -----  \n",
      " 0   path       320 non-null    object \n",
      " 1   finding    320 non-null    object \n",
      " 2   age        320 non-null    float64\n",
      " 3   sex        320 non-null    object \n",
      " 4   view       320 non-null    object \n",
      " 5   patientid  320 non-null    object \n",
      "dtypes: float64(1), object(5)\n",
      "memory usage: 15.1+ KB\n"
     ]
    }
   ],
   "source": [
    "df_covid19.info()"
   ]
  },
  {
   "cell_type": "code",
   "execution_count": 10,
   "metadata": {},
   "outputs": [
    {
     "name": "stdout",
     "output_type": "stream",
     "text": [
      "<class 'pandas.core.frame.DataFrame'>\n",
      "RangeIndex: 320 entries, 0 to 319\n",
      "Data columns (total 6 columns):\n",
      " #   Column     Non-Null Count  Dtype \n",
      "---  ------     --------------  ----- \n",
      " 0   path       320 non-null    object\n",
      " 1   finding    320 non-null    object\n",
      " 2   age        320 non-null    int64 \n",
      " 3   sex        320 non-null    object\n",
      " 4   view       320 non-null    object\n",
      " 5   patientid  320 non-null    int64 \n",
      "dtypes: int64(2), object(4)\n",
      "memory usage: 15.1+ KB\n"
     ]
    }
   ],
   "source": [
    "df_pneumonia.info()"
   ]
  },
  {
   "cell_type": "code",
   "execution_count": 11,
   "metadata": {},
   "outputs": [
    {
     "name": "stdout",
     "output_type": "stream",
     "text": [
      "<class 'pandas.core.frame.DataFrame'>\n",
      "RangeIndex: 320 entries, 0 to 319\n",
      "Data columns (total 6 columns):\n",
      " #   Column     Non-Null Count  Dtype \n",
      "---  ------     --------------  ----- \n",
      " 0   path       320 non-null    object\n",
      " 1   finding    320 non-null    object\n",
      " 2   age        320 non-null    int64 \n",
      " 3   sex        320 non-null    object\n",
      " 4   view       320 non-null    object\n",
      " 5   patientid  320 non-null    int64 \n",
      "dtypes: int64(2), object(4)\n",
      "memory usage: 15.1+ KB\n"
     ]
    }
   ],
   "source": [
    "df_healthy.info()"
   ]
  },
  {
   "cell_type": "code",
   "execution_count": 14,
   "metadata": {},
   "outputs": [
    {
     "name": "stdout",
     "output_type": "stream",
     "text": [
      "<class 'pandas.core.frame.DataFrame'>\n",
      "Int64Index: 960 entries, 0 to 319\n",
      "Data columns (total 6 columns):\n",
      " #   Column     Non-Null Count  Dtype  \n",
      "---  ------     --------------  -----  \n",
      " 0   path       960 non-null    object \n",
      " 1   finding    960 non-null    object \n",
      " 2   age        960 non-null    float64\n",
      " 3   sex        960 non-null    object \n",
      " 4   view       960 non-null    object \n",
      " 5   patientid  960 non-null    object \n",
      "dtypes: float64(1), object(5)\n",
      "memory usage: 52.5+ KB\n"
     ]
    }
   ],
   "source": [
    "# Merge csv files vertically (on top of each other)\n",
    "frames = [df_covid19, df_pneumonia, df_healthy]\n",
    "df_covidcxr = pd.concat(frames)\n",
    "df_covidcxr.to_csv( \"COVIDcxr.csv\", index=False, encoding='utf-8-sig')\n",
    "df_covidcxr.info()"
   ]
  },
  {
   "cell_type": "code",
   "execution_count": 15,
   "metadata": {},
   "outputs": [
    {
     "data": {
      "text/plain": [
       "(path         0\n",
       " finding      0\n",
       " age          0\n",
       " sex          0\n",
       " view         0\n",
       " patientid    0\n",
       " dtype: int64,\n",
       " COVID-19      320\n",
       " No Finding    320\n",
       " Pneumonia     320\n",
       " Name: finding, dtype: int64,\n",
       " 55.0    51\n",
       " 50.0    50\n",
       " 70.0    37\n",
       " 65.0    32\n",
       " 73.0    29\n",
       "         ..\n",
       " 3.0      1\n",
       " 17.0     1\n",
       " 12.0     1\n",
       " 90.0     1\n",
       " 91.0     1\n",
       " Name: age, Length: 91, dtype: int64,\n",
       " M    568\n",
       " F    392\n",
       " Name: sex, dtype: int64,\n",
       " PA           523\n",
       " AP           353\n",
       " AP Supine     84\n",
       " Name: view, dtype: int64)"
      ]
     },
     "execution_count": 15,
     "metadata": {},
     "output_type": "execute_result"
    }
   ],
   "source": [
    "df_covidcxr.isnull().sum(), df_covidcxr['finding'].value_counts(), df_covidcxr['age'].value_counts(), df_covidcxr['sex'].value_counts(), df_covidcxr['view'].value_counts()"
   ]
  },
  {
   "cell_type": "code",
   "execution_count": 16,
   "metadata": {},
   "outputs": [
    {
     "data": {
      "text/plain": [
       "count    960.000000\n",
       "mean      54.669792\n",
       "std       18.355041\n",
       "min        3.000000\n",
       "25%       44.000000\n",
       "50%       56.000000\n",
       "75%       69.000000\n",
       "max       94.000000\n",
       "Name: age, dtype: float64"
      ]
     },
     "execution_count": 16,
     "metadata": {},
     "output_type": "execute_result"
    }
   ],
   "source": [
    "df_covidcxr['age'].describe()"
   ]
  },
  {
   "cell_type": "code",
   "execution_count": 18,
   "metadata": {},
   "outputs": [],
   "source": [
    "## move covid-19 images to one folder (if the path exist in csv)\n",
    "dir_src = '/home/jupyter/covid-chestxray-dataset/images'\n",
    "dir_dst = '/home/jupyter/covidcxr'\n",
    "for fileName in df_covid19['path']: \n",
    "    file_src = dir_src + \"/\" + fileName\n",
    "    file_dst = dir_dst + \"/\" + fileName\n",
    "    try:\n",
    "        copyfile(file_src, file_dst)  \n",
    "    except IOError as e:\n",
    "        print('Unable to copy file {} to {}'\n",
    "              .format(file_src, file_dst))\n",
    "    except:\n",
    "        print('When try copy file {} to {}, unexpected error: {}'\n",
    "              .format(file_src, file_dst, sys.exc_info())) "
   ]
  },
  {
   "cell_type": "code",
   "execution_count": 26,
   "metadata": {},
   "outputs": [
    {
     "data": {
      "text/plain": [
       "320"
      ]
     },
     "execution_count": 26,
     "metadata": {},
     "output_type": "execute_result"
    }
   ],
   "source": [
    "path = Path ('/home/jupyter/covidcxr')\n",
    "num_files = len([f for f in os.listdir(path)if os.path.isfile(os.path.join(path, f))])\n",
    "num_files"
   ]
  },
  {
   "cell_type": "code",
   "execution_count": null,
   "metadata": {},
   "outputs": [],
   "source": [
    "# Run the following lines into the terminal to combine all nih-chestxary images into one file\n",
    "# mv /home/jupyter/images_001/images/* /home/jupyter/nih-chestxray\n",
    "# mv /home/jupyter/images_002/images/* /home/jupyter/nih-chestxray\n",
    "# mv /home/jupyter/images_003/images/* /home/jupyter/nih-chestxray\n",
    "# mv /home/jupyter/images_004/images/* /home/jupyter/nih-chestxray\n",
    "# mv /home/jupyter/images_005/images/* /home/jupyter/nih-chestxray\n",
    "# mv /home/jupyter/images_006/images/* /home/jupyter/nih-chestxray\n",
    "# mv /home/jupyter/images_007/images/* /home/jupyter/nih-chestxray\n",
    "# mv /home/jupyter/images_008/images/* /home/jupyter/nih-chestxray\n",
    "# mv /home/jupyter/images_009/images/* /home/jupyter/nih-chestxray\n",
    "# mv /home/jupyter/images_010/images/* /home/jupyter/nih-chestxray\n",
    "# mv /home/jupyter/images_011/images/* /home/jupyter/nih-chestxray\n",
    "# mv /home/jupyter/images_012/images/* /home/jupyter/nih-chestxray"
   ]
  },
  {
   "cell_type": "code",
   "execution_count": 43,
   "metadata": {},
   "outputs": [],
   "source": [
    "## move pneumonia cxr to one folder (if the path exist in csv)\n",
    "dir_src = '/home/jupyter/nih-chestxray'\n",
    "dir_dst = '/home/jupyter/covidcxr'\n",
    "for fileName in df_pneumonia['path']: \n",
    "    file_src = dir_src + \"/\" + fileName\n",
    "    file_dst = dir_dst + \"/\" + fileName\n",
    "    try:\n",
    "        copyfile(file_src, file_dst)   \n",
    "    except IOError as e:\n",
    "        print('Unable to copy file {} to {}'\n",
    "              .format(file_src, file_dst))\n",
    "    except:\n",
    "        print('When try copy file {} to {}, unexpected error: {}'\n",
    "              .format(file_src, file_dst, sys.exc_info()))     "
   ]
  },
  {
   "cell_type": "code",
   "execution_count": 44,
   "metadata": {},
   "outputs": [
    {
     "data": {
      "text/plain": [
       "640"
      ]
     },
     "execution_count": 44,
     "metadata": {},
     "output_type": "execute_result"
    }
   ],
   "source": [
    "path = Path ('/home/jupyter/covidcxr')\n",
    "num_files = len([f for f in os.listdir(path)if os.path.isfile(os.path.join(path, f))])\n",
    "num_files"
   ]
  },
  {
   "cell_type": "code",
   "execution_count": 45,
   "metadata": {},
   "outputs": [],
   "source": [
    "## move healthy cxr to one folder (if the path exist in csv)\n",
    "for fileName in df_healthy['path']: \n",
    "    file_src = dir_src + \"/\" + fileName\n",
    "    file_dst = dir_dst + \"/\" + fileName\n",
    "    try:\n",
    "        copyfile(file_src, file_dst)    \n",
    "    except IOError as e:\n",
    "        print('Unable to copy file {} to {}'\n",
    "              .format(file_src, file_dst))\n",
    "    except:\n",
    "        print('When try copy file {} to {}, unexpected error: {}'\n",
    "              .format(file_src, file_dst, sys.exc_info())) "
   ]
  },
  {
   "cell_type": "code",
   "execution_count": 46,
   "metadata": {},
   "outputs": [
    {
     "data": {
      "text/plain": [
       "960"
      ]
     },
     "execution_count": 46,
     "metadata": {},
     "output_type": "execute_result"
    }
   ],
   "source": [
    "path = Path ('/home/jupyter/covidcxr')\n",
    "num_files = len([f for f in os.listdir(path)if os.path.isfile(os.path.join(path, f))])\n",
    "num_files"
   ]
  },
  {
   "cell_type": "code",
   "execution_count": null,
   "metadata": {},
   "outputs": [],
   "source": []
  }
 ],
 "metadata": {
  "environment": {
   "name": "pytorch-gpu.1-4.m46",
   "type": "gcloud",
   "uri": "gcr.io/deeplearning-platform-release/pytorch-gpu.1-4:m46"
  },
  "kernelspec": {
   "display_name": "Python 3",
   "language": "python",
   "name": "python3"
  },
  "language_info": {
   "codemirror_mode": {
    "name": "ipython",
    "version": 3
   },
   "file_extension": ".py",
   "mimetype": "text/x-python",
   "name": "python",
   "nbconvert_exporter": "python",
   "pygments_lexer": "ipython3",
   "version": "3.7.6"
  }
 },
 "nbformat": 4,
 "nbformat_minor": 4
}
