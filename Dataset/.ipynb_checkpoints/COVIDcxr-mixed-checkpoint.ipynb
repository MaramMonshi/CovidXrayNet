{
 "cells": [
  {
   "cell_type": "markdown",
   "metadata": {},
   "source": [
    "# Mixed DataLoader for COVIDcxr Dataset"
   ]
  },
  {
   "cell_type": "markdown",
   "metadata": {},
   "source": [
    "##### Please refer to Kaggle: https://www.kaggle.com/muellerzr/fastai2-tabular-vision-starter-kernel"
   ]
  },
  {
   "cell_type": "code",
   "execution_count": null,
   "metadata": {},
   "outputs": [],
   "source": [
    "from fastai2.tabular.all import *\n",
    "from fastai2.vision.all import *\n",
    "from fastai2.medical.imaging import *\n",
    "from fastai2.data.load import _FakeLoader, _loaders"
   ]
  },
  {
   "cell_type": "code",
   "execution_count": 2,
   "metadata": {},
   "outputs": [],
   "source": [
    "import os.path\n",
    "path = Path('/home/jupyter/covidcxr') \n",
    "df = pd.read_csv('covidcxr.csv')"
   ]
  },
  {
   "cell_type": "code",
   "execution_count": 3,
   "metadata": {},
   "outputs": [],
   "source": [
    "torch.cuda.empty_cache()"
   ]
  },
  {
   "cell_type": "code",
   "execution_count": 4,
   "metadata": {},
   "outputs": [],
   "source": [
    "# fix result\n",
    "def seed_everything(seed):\n",
    "    random.seed(seed)\n",
    "    os.environ['PYTHONHASHSEED'] = str(seed)\n",
    "    np.random.seed(seed)\n",
    "    torch.manual_seed(seed)\n",
    "    torch.cuda.manual_seed_all(seed)\n",
    "    torch.cuda.manual_seed(seed)\n",
    "    torch.backends.cudnn.deterministic = True\n",
    "SEED = 42\n",
    "seed_everything(SEED)"
   ]
  },
  {
   "cell_type": "code",
   "execution_count": 6,
   "metadata": {},
   "outputs": [],
   "source": [
    "df_train = df.sample(frac=0.8, replace=True, random_state=1)\n",
    "df_test = df.sample(frac=0.2, replace=True, random_state=1)"
   ]
  },
  {
   "cell_type": "markdown",
   "metadata": {},
   "source": [
    "## Tabular DataLoader"
   ]
  },
  {
   "cell_type": "code",
   "execution_count": 69,
   "metadata": {},
   "outputs": [],
   "source": [
    "cols = ['path', 'sex', 'age', 'view','finding']\n",
    "df_train = df_train[cols]\n",
    "procs = [Categorify, FillMissing, Normalize]\n",
    "cat_names = ['sex', 'view']\n",
    "cont_names = ['age']\n",
    "splitter = RandomSplitter(seed=42)\n",
    "splits = splitter(range_of(df_train))\n",
    "to1 = TabularPandas(df_train, procs, cat_names, cont_names,\n",
    "                  y_names='finding', y_block=CategoryBlock(),\n",
    "                  splits=splits)"
   ]
  },
  {
   "cell_type": "code",
   "execution_count": 70,
   "metadata": {},
   "outputs": [],
   "source": [
    "dl_tab1 = to1.dataloaders(bs=8)"
   ]
  },
  {
   "cell_type": "code",
   "execution_count": 71,
   "metadata": {},
   "outputs": [],
   "source": [
    "df_test = df_test[cols]\n",
    "splits2 = splitter(range_of(df_test))\n",
    "to2 = TabularPandas(df_test, procs, cat_names, cont_names,\n",
    "                  y_names='finding', y_block=CategoryBlock(),\n",
    "                  splits=splits2)\n",
    "dl_tab2 = to2.dataloaders(bs=8)"
   ]
  },
  {
   "cell_type": "code",
   "execution_count": 72,
   "metadata": {},
   "outputs": [],
   "source": [
    "dl_tab2 = to2.dataloaders(bs=8)"
   ]
  },
  {
   "cell_type": "markdown",
   "metadata": {},
   "source": [
    "## Vision DataLoader"
   ]
  },
  {
   "cell_type": "code",
   "execution_count": 73,
   "metadata": {},
   "outputs": [],
   "source": [
    "get_x = lambda x:path/f\"{x[0]}\"\n",
    "get_y= ColReader('finding')\n",
    "batch_tfms = Normalize.from_stats(*imagenet_stats)\n",
    "blocks = (ImageBlock(cls=PILImageBW), CategoryBlock)\n",
    "covid1 = DataBlock(blocks=blocks,\n",
    "                   get_x=get_x,\n",
    "                   splitter=splitter,\n",
    "                   item_tfms=RandomResizedCrop(128, min_scale=0.35),\n",
    "                   get_y=ColReader('finding'),\n",
    "                   batch_tfms=batch_tfms)"
   ]
  },
  {
   "cell_type": "code",
   "execution_count": 74,
   "metadata": {},
   "outputs": [],
   "source": [
    "dl_vis1 = covid1.dataloaders(df_train, bs=8)\n",
    "dl_vis2 = covid1.dataloaders(df_test, bs=8)"
   ]
  },
  {
   "cell_type": "code",
   "execution_count": 75,
   "metadata": {},
   "outputs": [
    {
     "data": {
      "text/plain": [
       "fastai2.data.core.TfmdDL"
      ]
     },
     "execution_count": 75,
     "metadata": {},
     "output_type": "execute_result"
    }
   ],
   "source": [
    "type(dl_vis1[0])"
   ]
  },
  {
   "cell_type": "code",
   "execution_count": 76,
   "metadata": {},
   "outputs": [
    {
     "data": {
      "text/plain": [
       "fastai2.data.core.TfmdDL"
      ]
     },
     "execution_count": 76,
     "metadata": {},
     "output_type": "execute_result"
    }
   ],
   "source": [
    "type(dl_vis2[0])"
   ]
  },
  {
   "cell_type": "markdown",
   "metadata": {},
   "source": [
    "## Mixed DataLoader"
   ]
  },
  {
   "cell_type": "code",
   "execution_count": 77,
   "metadata": {},
   "outputs": [],
   "source": [
    "class MixedDL():\n",
    "    def __init__(self, tab_dl:TabDataLoader, vis_dl:TfmdDL, device='cuda:0'):\n",
    "        \"Stores away `tab_dl` and `vis_dl`, and overrides `shuffle_fn`\"\n",
    "        self.device = device\n",
    "        tab_dl.shuffle_fn = self.shuffle_fn\n",
    "        vis_dl.shuffle_fn = self.shuffle_fn\n",
    "        self.dls = [tab_dl, vis_dl]\n",
    "        self.count = 0\n",
    "        self.fake_l = _FakeLoader(self, False, 0, 0)\n",
    "    \n",
    "    def __len__(self): return len(self.dls[0])\n",
    "        \n",
    "    def shuffle_fn(self, idxs):\n",
    "        \"Generates a new `rng` based upon which `DataLoader` is called\"\n",
    "        if self.count == 0: # if we haven't generated an rng yet\n",
    "            self.rng = self.dls[0].rng.sample(idxs, len(idxs))\n",
    "            self.count += 1\n",
    "            return self.rng\n",
    "        else:\n",
    "            self.count = 0\n",
    "            return self.rng\n",
    "        \n",
    "    def to(self, device): self.device = device"
   ]
  },
  {
   "cell_type": "code",
   "execution_count": 78,
   "metadata": {},
   "outputs": [
    {
     "data": {
      "text/plain": [
       "[111, 172, 256, 518, 526, 335, 358, 235, 180, 544]"
      ]
     },
     "execution_count": 78,
     "metadata": {},
     "output_type": "execute_result"
    }
   ],
   "source": [
    "dl_vis1[0].get_idxs()[:10]"
   ]
  },
  {
   "cell_type": "code",
   "execution_count": 79,
   "metadata": {},
   "outputs": [
    {
     "data": {
      "text/plain": [
       "[12, 6, 126, 65, 39, 63, 80, 170, 138, 93]"
      ]
     },
     "execution_count": 79,
     "metadata": {},
     "output_type": "execute_result"
    }
   ],
   "source": [
    "dl_vis2[0].get_idxs()[:10]"
   ]
  },
  {
   "cell_type": "code",
   "execution_count": 80,
   "metadata": {},
   "outputs": [
    {
     "data": {
      "text/plain": [
       "[455, 184, 309, 205, 526, 550, 135, 694, 664, 599]"
      ]
     },
     "execution_count": 80,
     "metadata": {},
     "output_type": "execute_result"
    }
   ],
   "source": [
    "dl_tab1[0].get_idxs()[:10]"
   ]
  },
  {
   "cell_type": "code",
   "execution_count": 81,
   "metadata": {},
   "outputs": [
    {
     "data": {
      "text/plain": [
       "[96, 71, 49, 167, 153, 7, 18, 29, 105, 64]"
      ]
     },
     "execution_count": 81,
     "metadata": {},
     "output_type": "execute_result"
    }
   ],
   "source": [
    "dl_tab2[0].get_idxs()[:10]"
   ]
  },
  {
   "cell_type": "code",
   "execution_count": 82,
   "metadata": {},
   "outputs": [],
   "source": [
    "mixed_dl1 = MixedDL(dl_tab1[0], dl_vis1[0])"
   ]
  },
  {
   "cell_type": "code",
   "execution_count": 83,
   "metadata": {},
   "outputs": [],
   "source": [
    "mixed_dl2 = MixedDL(dl_tab2[0], dl_vis2[0])"
   ]
  },
  {
   "cell_type": "code",
   "execution_count": 84,
   "metadata": {},
   "outputs": [
    {
     "data": {
      "text/plain": [
       "[258, 479, 499, 491, 342, 70, 309, 98, 110, 162]"
      ]
     },
     "execution_count": 84,
     "metadata": {},
     "output_type": "execute_result"
    }
   ],
   "source": [
    "mixed_dl1.dls[0].get_idxs()[:10]"
   ]
  },
  {
   "cell_type": "code",
   "execution_count": 85,
   "metadata": {},
   "outputs": [
    {
     "data": {
      "text/plain": [
       "[115, 63, 149, 170, 86, 15, 153, 44, 145, 0]"
      ]
     },
     "execution_count": 85,
     "metadata": {},
     "output_type": "execute_result"
    }
   ],
   "source": [
    "mixed_dl2.dls[0].get_idxs()[:10]"
   ]
  },
  {
   "cell_type": "code",
   "execution_count": 86,
   "metadata": {},
   "outputs": [
    {
     "data": {
      "text/plain": [
       "[258, 479, 499, 491, 342, 70, 309, 98, 110, 162]"
      ]
     },
     "execution_count": 86,
     "metadata": {},
     "output_type": "execute_result"
    }
   ],
   "source": [
    "mixed_dl1.dls[1].get_idxs()[:10]"
   ]
  },
  {
   "cell_type": "code",
   "execution_count": 87,
   "metadata": {},
   "outputs": [
    {
     "data": {
      "text/plain": [
       "[115, 63, 149, 170, 86, 15, 153, 44, 145, 0]"
      ]
     },
     "execution_count": 87,
     "metadata": {},
     "output_type": "execute_result"
    }
   ],
   "source": [
    "mixed_dl2.dls[1].get_idxs()[:10]"
   ]
  },
  {
   "cell_type": "code",
   "execution_count": 88,
   "metadata": {},
   "outputs": [],
   "source": [
    "@patch\n",
    "def __iter__(dl:MixedDL):\n",
    "    \"Iterate over your `DataLoader`\"\n",
    "    z = zip(*[_loaders[i.fake_l.num_workers==0](i.fake_l) for i in dl.dls])\n",
    "    for b in z:\n",
    "        if dl.device is not None: \n",
    "            b = to_device(b, dl.device)\n",
    "        batch = []\n",
    "        batch.extend(dl.dls[0].after_batch(b[0])[:2])\n",
    "        batch.append(dl.dls[1].after_batch(b[1][0]))\n",
    "        try: # In case the data is unlabelled\n",
    "            batch.append(b[1][1])\n",
    "            yield tuple(batch)\n",
    "        except:\n",
    "            yield tuple(batch)"
   ]
  },
  {
   "cell_type": "code",
   "execution_count": 89,
   "metadata": {},
   "outputs": [],
   "source": [
    "@patch\n",
    "def one_batch(x:MixedDL):\n",
    "    \"Grab a batch from the `DataLoader`\"\n",
    "    with x.fake_l.no_multiproc(): res = first(x)\n",
    "    if hasattr(x, 'it'): delattr(x, 'it')\n",
    "    return res"
   ]
  },
  {
   "cell_type": "code",
   "execution_count": 90,
   "metadata": {},
   "outputs": [
    {
     "name": "stderr",
     "output_type": "stream",
     "text": [
      "Exception ignored in: <generator object MixedDL.__iter__ at 0x7faf8efd3d50>\n",
      "RuntimeError: generator ignored GeneratorExit\n"
     ]
    }
   ],
   "source": [
    "batch1 = mixed_dl1.one_batch()"
   ]
  },
  {
   "cell_type": "code",
   "execution_count": 91,
   "metadata": {},
   "outputs": [
    {
     "name": "stderr",
     "output_type": "stream",
     "text": [
      "Exception ignored in: <generator object MixedDL.__iter__ at 0x7faf8efd3d50>\n",
      "RuntimeError: generator ignored GeneratorExit\n"
     ]
    }
   ],
   "source": [
    "batch2 = mixed_dl2.one_batch()"
   ]
  },
  {
   "cell_type": "code",
   "execution_count": 92,
   "metadata": {},
   "outputs": [
    {
     "data": {
      "text/plain": [
       "tensor([[2, 2],\n",
       "        [2, 1],\n",
       "        [2, 1],\n",
       "        [2, 2],\n",
       "        [2, 1],\n",
       "        [2, 1],\n",
       "        [1, 4],\n",
       "        [2, 4]], device='cuda:0')"
      ]
     },
     "execution_count": 92,
     "metadata": {},
     "output_type": "execute_result"
    }
   ],
   "source": [
    "batch1[0]"
   ]
  },
  {
   "cell_type": "code",
   "execution_count": 93,
   "metadata": {},
   "outputs": [
    {
     "data": {
      "text/plain": [
       "tensor([[2, 3],\n",
       "        [2, 4],\n",
       "        [2, 2],\n",
       "        [2, 1],\n",
       "        [1, 4],\n",
       "        [2, 4],\n",
       "        [1, 4],\n",
       "        [1, 4]], device='cuda:0')"
      ]
     },
     "execution_count": 93,
     "metadata": {},
     "output_type": "execute_result"
    }
   ],
   "source": [
    "batch2[0]"
   ]
  },
  {
   "cell_type": "code",
   "execution_count": 94,
   "metadata": {},
   "outputs": [
    {
     "data": {
      "text/plain": [
       "tensor([[-0.0269],\n",
       "        [-2.5125],\n",
       "        [-2.5125],\n",
       "        [-1.0211],\n",
       "        [-1.8497],\n",
       "        [-2.5125],\n",
       "        [-1.6287],\n",
       "        [-1.0211]], device='cuda:0')"
      ]
     },
     "execution_count": 94,
     "metadata": {},
     "output_type": "execute_result"
    }
   ],
   "source": [
    "batch1[1]"
   ]
  },
  {
   "cell_type": "code",
   "execution_count": 95,
   "metadata": {},
   "outputs": [
    {
     "data": {
      "text/plain": [
       "tensor([[ 1.1166],\n",
       "        [-0.5859],\n",
       "        [ 0.9518],\n",
       "        [ 1.2264],\n",
       "        [-0.0367],\n",
       "        [ 1.0067],\n",
       "        [-0.2564],\n",
       "        [-0.3662]], device='cuda:0')"
      ]
     },
     "execution_count": 95,
     "metadata": {},
     "output_type": "execute_result"
    }
   ],
   "source": [
    "batch2[1]"
   ]
  },
  {
   "cell_type": "code",
   "execution_count": 96,
   "metadata": {},
   "outputs": [
    {
     "data": {
      "text/plain": [
       "TensorImageBW([[[[ 1.0159,  0.9817,  0.9646,  ...,  0.1939,  0.0227, -0.1657],\n",
       "          [ 1.0673,  1.0331,  0.9988,  ...,  0.1939,  0.0056, -0.1657],\n",
       "          [ 1.0502,  1.0502,  1.0673,  ...,  0.1939, -0.0287, -0.1828],\n",
       "          ...,\n",
       "          [ 0.3481,  0.4337,  0.5364,  ..., -1.2959, -1.3987, -1.3987],\n",
       "          [ 0.3309,  0.4337,  0.5193,  ..., -1.3302, -1.4158, -1.2788],\n",
       "          [ 0.3138,  0.3994,  0.4851,  ..., -1.3473, -1.4329, -1.2445]],\n",
       "\n",
       "         [[ 1.1681,  1.1331,  1.1155,  ...,  0.3277,  0.1527, -0.0399],\n",
       "          [ 1.2206,  1.1856,  1.1506,  ...,  0.3277,  0.1352, -0.0399],\n",
       "          [ 1.2031,  1.2031,  1.2206,  ...,  0.3277,  0.1001, -0.0574],\n",
       "          ...,\n",
       "          [ 0.4853,  0.5728,  0.6779,  ..., -1.1954, -1.3004, -1.3004],\n",
       "          [ 0.4678,  0.5728,  0.6604,  ..., -1.2304, -1.3179, -1.1779],\n",
       "          [ 0.4503,  0.5378,  0.6254,  ..., -1.2479, -1.3354, -1.1429]],\n",
       "\n",
       "         [[ 1.3851,  1.3502,  1.3328,  ...,  0.5485,  0.3742,  0.1825],\n",
       "          [ 1.4374,  1.4025,  1.3677,  ...,  0.5485,  0.3568,  0.1825],\n",
       "          [ 1.4200,  1.4200,  1.4374,  ...,  0.5485,  0.3219,  0.1651],\n",
       "          ...,\n",
       "          [ 0.7054,  0.7925,  0.8971,  ..., -0.9678, -1.0724, -1.0724],\n",
       "          [ 0.6879,  0.7925,  0.8797,  ..., -1.0027, -1.0898, -0.9504],\n",
       "          [ 0.6705,  0.7576,  0.8448,  ..., -1.0201, -1.1073, -0.9156]]],\n",
       "\n",
       "\n",
       "        [[[ 0.2111,  0.2967,  0.3309,  ..., -2.0494, -2.0494, -2.0494],\n",
       "          [ 0.2453,  0.3309,  0.3823,  ..., -1.6213, -1.6042, -1.9809],\n",
       "          [ 0.2967,  0.3309,  0.3652,  ...,  0.3481,  0.4679, -0.3883],\n",
       "          ...,\n",
       "          [ 1.7694,  1.7865,  1.7865,  ..., -2.0665, -2.0323, -1.9809],\n",
       "          [ 1.7865,  1.7865,  1.7865,  ..., -2.0665, -2.0323, -1.9638],\n",
       "          [ 1.8037,  1.8037,  1.8037,  ..., -2.0665, -2.0494, -1.9980]],\n",
       "\n",
       "         [[ 0.3452,  0.4328,  0.4678,  ..., -1.9657, -1.9657, -1.9657],\n",
       "          [ 0.3803,  0.4678,  0.5203,  ..., -1.5280, -1.5105, -1.8957],\n",
       "          [ 0.4328,  0.4678,  0.5028,  ...,  0.4853,  0.6078, -0.2675],\n",
       "          ...,\n",
       "          [ 1.9384,  1.9559,  1.9559,  ..., -1.9832, -1.9482, -1.8957],\n",
       "          [ 1.9559,  1.9559,  1.9559,  ..., -1.9832, -1.9482, -1.8782],\n",
       "          [ 1.9734,  1.9734,  1.9734,  ..., -1.9832, -1.9657, -1.9132]],\n",
       "\n",
       "         [[ 0.5659,  0.6531,  0.6879,  ..., -1.7347, -1.7347, -1.7347],\n",
       "          [ 0.6008,  0.6879,  0.7402,  ..., -1.2990, -1.2816, -1.6650],\n",
       "          [ 0.6531,  0.6879,  0.7228,  ...,  0.7054,  0.8274, -0.0441],\n",
       "          ...,\n",
       "          [ 2.1520,  2.1694,  2.1694,  ..., -1.7522, -1.7173, -1.6650],\n",
       "          [ 2.1694,  2.1694,  2.1694,  ..., -1.7522, -1.7173, -1.6476],\n",
       "          [ 2.1868,  2.1868,  2.1868,  ..., -1.7522, -1.7347, -1.6824]]],\n",
       "\n",
       "\n",
       "        [[[-1.2103, -0.8507, -0.7479,  ..., -2.1179, -2.1179, -2.1179],\n",
       "          [-1.1932, -0.8678, -0.7650,  ..., -2.1179, -2.1179, -2.1179],\n",
       "          [-1.1075, -0.8335, -0.7650,  ..., -2.1179, -2.1179, -2.1179],\n",
       "          ...,\n",
       "          [-0.9534, -1.2274, -1.7240,  ..., -1.4672, -2.1179, -2.1179],\n",
       "          [-0.9534, -1.2103, -1.6727,  ..., -1.4672, -2.1179, -2.1179],\n",
       "          [-0.9363, -1.1932, -1.6384,  ..., -1.3130, -2.1179, -2.1179]],\n",
       "\n",
       "         [[-1.1078, -0.7402, -0.6352,  ..., -2.0357, -2.0357, -2.0357],\n",
       "          [-1.0903, -0.7577, -0.6527,  ..., -2.0357, -2.0357, -2.0357],\n",
       "          [-1.0028, -0.7227, -0.6527,  ..., -2.0357, -2.0357, -2.0357],\n",
       "          ...,\n",
       "          [-0.8452, -1.1253, -1.6331,  ..., -1.3704, -2.0357, -2.0357],\n",
       "          [-0.8452, -1.1078, -1.5805,  ..., -1.3704, -2.0357, -2.0357],\n",
       "          [-0.8277, -1.0903, -1.5455,  ..., -1.2129, -2.0357, -2.0357]],\n",
       "\n",
       "         [[-0.8807, -0.5147, -0.4101,  ..., -1.8044, -1.8044, -1.8044],\n",
       "          [-0.8633, -0.5321, -0.4275,  ..., -1.8044, -1.8044, -1.8044],\n",
       "          [-0.7761, -0.4973, -0.4275,  ..., -1.8044, -1.8044, -1.8044],\n",
       "          ...,\n",
       "          [-0.6193, -0.8981, -1.4036,  ..., -1.1421, -1.8044, -1.8044],\n",
       "          [-0.6193, -0.8807, -1.3513,  ..., -1.1421, -1.8044, -1.8044],\n",
       "          [-0.6018, -0.8633, -1.3164,  ..., -0.9853, -1.8044, -1.8044]]],\n",
       "\n",
       "\n",
       "        ...,\n",
       "\n",
       "\n",
       "        [[[-2.1179, -2.1179, -2.1179,  ..., -2.1179, -2.1179, -2.1179],\n",
       "          [-2.1179, -2.1179, -2.1179,  ..., -2.1179, -2.1179, -2.1179],\n",
       "          [-2.1179, -2.1179, -2.1179,  ..., -2.1179, -2.1179, -2.1179],\n",
       "          ...,\n",
       "          [-2.1179, -2.1179, -2.1179,  ...,  0.8276,  0.3481, -0.8678],\n",
       "          [-2.1179, -2.1179, -2.1179,  ...,  0.7933,  0.3994, -0.7822],\n",
       "          [-2.1179, -2.1179, -2.1179,  ...,  0.7591,  0.4337, -0.6965]],\n",
       "\n",
       "         [[-2.0357, -2.0357, -2.0357,  ..., -2.0357, -2.0357, -2.0357],\n",
       "          [-2.0357, -2.0357, -2.0357,  ..., -2.0357, -2.0357, -2.0357],\n",
       "          [-2.0357, -2.0357, -2.0357,  ..., -2.0357, -2.0357, -2.0357],\n",
       "          ...,\n",
       "          [-2.0357, -2.0357, -2.0357,  ...,  0.9755,  0.4853, -0.7577],\n",
       "          [-2.0357, -2.0357, -2.0357,  ...,  0.9405,  0.5378, -0.6702],\n",
       "          [-2.0357, -2.0357, -2.0357,  ...,  0.9055,  0.5728, -0.5826]],\n",
       "\n",
       "         [[-1.8044, -1.8044, -1.8044,  ..., -1.8044, -1.8044, -1.8044],\n",
       "          [-1.8044, -1.8044, -1.8044,  ..., -1.8044, -1.8044, -1.8044],\n",
       "          [-1.8044, -1.8044, -1.8044,  ..., -1.8044, -1.8044, -1.8044],\n",
       "          ...,\n",
       "          [-1.8044, -1.8044, -1.8044,  ...,  1.1934,  0.7054, -0.5321],\n",
       "          [-1.8044, -1.8044, -1.8044,  ...,  1.1585,  0.7576, -0.4450],\n",
       "          [-1.8044, -1.8044, -1.8044,  ...,  1.1237,  0.7925, -0.3578]]],\n",
       "\n",
       "\n",
       "        [[[-2.1179, -2.1179, -2.1179,  ..., -2.1179, -2.1179, -2.1179],\n",
       "          [-2.1179, -2.1179, -2.1179,  ..., -2.1179, -2.1179, -2.1179],\n",
       "          [-2.1179, -2.1179, -2.1179,  ..., -2.1179, -2.1179, -2.1179],\n",
       "          ...,\n",
       "          [-1.0733, -0.9363, -0.7308,  ...,  0.7591,  0.6221,  0.4508],\n",
       "          [-1.1075, -0.9705, -0.7993,  ...,  0.6906,  0.5022,  0.2796],\n",
       "          [-1.1247, -0.9877, -0.8164,  ...,  0.5193,  0.2967,  0.0741]],\n",
       "\n",
       "         [[-2.0357, -2.0357, -2.0357,  ..., -2.0357, -2.0357, -2.0357],\n",
       "          [-2.0357, -2.0357, -2.0357,  ..., -2.0357, -2.0357, -2.0357],\n",
       "          [-2.0357, -2.0357, -2.0357,  ..., -2.0357, -2.0357, -2.0357],\n",
       "          ...,\n",
       "          [-0.9678, -0.8277, -0.6176,  ...,  0.9055,  0.7654,  0.5903],\n",
       "          [-1.0028, -0.8627, -0.6877,  ...,  0.8354,  0.6429,  0.4153],\n",
       "          [-1.0203, -0.8803, -0.7052,  ...,  0.6604,  0.4328,  0.2052]],\n",
       "\n",
       "         [[-1.8044, -1.8044, -1.8044,  ..., -1.8044, -1.8044, -1.8044],\n",
       "          [-1.8044, -1.8044, -1.8044,  ..., -1.8044, -1.8044, -1.8044],\n",
       "          [-1.8044, -1.8044, -1.8044,  ..., -1.8044, -1.8044, -1.8044],\n",
       "          ...,\n",
       "          [-0.7413, -0.6018, -0.3927,  ...,  1.1237,  0.9842,  0.8099],\n",
       "          [-0.7761, -0.6367, -0.4624,  ...,  1.0539,  0.8622,  0.6356],\n",
       "          [-0.7936, -0.6541, -0.4798,  ...,  0.8797,  0.6531,  0.4265]]],\n",
       "\n",
       "\n",
       "        [[[ 0.5022,  0.4166,  0.3481,  ...,  0.3823,  0.3481,  0.3309],\n",
       "          [ 0.7762,  0.7248,  0.6734,  ...,  0.4679,  0.4508,  0.4337],\n",
       "          [ 0.8447,  0.8104,  0.8104,  ...,  0.7077,  0.7077,  0.6734],\n",
       "          ...,\n",
       "          [ 1.3927,  1.4269,  1.4269,  ..., -0.7650, -1.0390, -1.3302],\n",
       "          [ 1.3755,  1.3927,  1.4269,  ..., -0.8164, -1.0904, -1.3815],\n",
       "          [ 1.3584,  1.3927,  1.4269,  ..., -0.8507, -1.1589, -1.4329]],\n",
       "\n",
       "         [[ 0.6429,  0.5553,  0.4853,  ...,  0.5203,  0.4853,  0.4678],\n",
       "          [ 0.9230,  0.8704,  0.8179,  ...,  0.6078,  0.5903,  0.5728],\n",
       "          [ 0.9930,  0.9580,  0.9580,  ...,  0.8529,  0.8529,  0.8179],\n",
       "          ...,\n",
       "          [ 1.5532,  1.5882,  1.5882,  ..., -0.6527, -0.9328, -1.2304],\n",
       "          [ 1.5357,  1.5532,  1.5882,  ..., -0.7052, -0.9853, -1.2829],\n",
       "          [ 1.5182,  1.5532,  1.5882,  ..., -0.7402, -1.0553, -1.3354]],\n",
       "\n",
       "         [[ 0.8622,  0.7751,  0.7054,  ...,  0.7402,  0.7054,  0.6879],\n",
       "          [ 1.1411,  1.0888,  1.0365,  ...,  0.8274,  0.8099,  0.7925],\n",
       "          [ 1.2108,  1.1759,  1.1759,  ...,  1.0714,  1.0714,  1.0365],\n",
       "          ...,\n",
       "          [ 1.7685,  1.8034,  1.8034,  ..., -0.4275, -0.7064, -1.0027],\n",
       "          [ 1.7511,  1.7685,  1.8034,  ..., -0.4798, -0.7587, -1.0550],\n",
       "          [ 1.7337,  1.7685,  1.8034,  ..., -0.5147, -0.8284, -1.1073]]]],\n",
       "       device='cuda:0')"
      ]
     },
     "execution_count": 96,
     "metadata": {},
     "output_type": "execute_result"
    }
   ],
   "source": [
    "batch1[2]"
   ]
  },
  {
   "cell_type": "code",
   "execution_count": 97,
   "metadata": {},
   "outputs": [
    {
     "data": {
      "text/plain": [
       "TensorImageBW([[[[-2.1179, -2.1008, -2.0323,  ...,  0.0056, -0.1657, -0.2856],\n",
       "          [-2.1179, -2.0665, -1.9980,  ...,  0.0056, -0.1314, -0.2513],\n",
       "          [-2.1008, -1.9980, -1.9809,  ...,  0.1083, -0.0458, -0.1999],\n",
       "          ...,\n",
       "          [-1.1247, -1.0390, -0.8849,  ..., -0.9705, -1.1247, -1.2617],\n",
       "          [-1.0904, -1.0733, -0.9877,  ..., -1.0048, -1.1075, -1.2445],\n",
       "          [-1.1247, -1.1247, -1.0390,  ..., -0.9705, -1.1075, -1.2274]],\n",
       "\n",
       "         [[-2.0357, -2.0182, -1.9482,  ...,  0.1352, -0.0399, -0.1625],\n",
       "          [-2.0357, -1.9832, -1.9132,  ...,  0.1352, -0.0049, -0.1275],\n",
       "          [-2.0182, -1.9132, -1.8957,  ...,  0.2402,  0.0826, -0.0749],\n",
       "          ...,\n",
       "          [-1.0203, -0.9328, -0.7752,  ..., -0.8627, -1.0203, -1.1604],\n",
       "          [-0.9853, -0.9678, -0.8803,  ..., -0.8978, -1.0028, -1.1429],\n",
       "          [-1.0203, -1.0203, -0.9328,  ..., -0.8627, -1.0028, -1.1253]],\n",
       "\n",
       "         [[-1.8044, -1.7870, -1.7173,  ...,  0.3568,  0.1825,  0.0605],\n",
       "          [-1.8044, -1.7522, -1.6824,  ...,  0.3568,  0.2173,  0.0953],\n",
       "          [-1.7870, -1.6824, -1.6650,  ...,  0.4614,  0.3045,  0.1476],\n",
       "          ...,\n",
       "          [-0.7936, -0.7064, -0.5495,  ..., -0.6367, -0.7936, -0.9330],\n",
       "          [-0.7587, -0.7413, -0.6541,  ..., -0.6715, -0.7761, -0.9156],\n",
       "          [-0.7936, -0.7936, -0.7064,  ..., -0.6367, -0.7761, -0.8981]]],\n",
       "\n",
       "\n",
       "        [[[-0.0629, -0.0287,  0.0056,  ..., -0.9705, -0.9192, -0.7822],\n",
       "          [-0.0287,  0.0227,  0.0569,  ..., -0.9705, -0.8678, -0.7479],\n",
       "          [ 0.0056,  0.0569,  0.0569,  ..., -0.8849, -0.7479, -0.6281],\n",
       "          ...,\n",
       "          [ 0.0398,  0.9646,  0.9646,  ...,  1.9235,  1.9064,  1.8722],\n",
       "          [ 0.0227,  0.9474,  0.9988,  ...,  1.9407,  1.9064,  1.8722],\n",
       "          [ 0.0056,  0.9474,  0.9988,  ...,  1.9235,  1.9064,  1.8893]],\n",
       "\n",
       "         [[ 0.0651,  0.1001,  0.1352,  ..., -0.8627, -0.8102, -0.6702],\n",
       "          [ 0.1001,  0.1527,  0.1877,  ..., -0.8627, -0.7577, -0.6352],\n",
       "          [ 0.1352,  0.1877,  0.1877,  ..., -0.7752, -0.6352, -0.5126],\n",
       "          ...,\n",
       "          [ 0.1702,  1.1155,  1.1155,  ...,  2.0959,  2.0784,  2.0434],\n",
       "          [ 0.1527,  1.0980,  1.1506,  ...,  2.1134,  2.0784,  2.0434],\n",
       "          [ 0.1352,  1.0980,  1.1506,  ...,  2.0959,  2.0784,  2.0609]],\n",
       "\n",
       "         [[ 0.2871,  0.3219,  0.3568,  ..., -0.6367, -0.5844, -0.4450],\n",
       "          [ 0.3219,  0.3742,  0.4091,  ..., -0.6367, -0.5321, -0.4101],\n",
       "          [ 0.3568,  0.4091,  0.4091,  ..., -0.5495, -0.4101, -0.2881],\n",
       "          ...,\n",
       "          [ 0.3916,  1.3328,  1.3328,  ...,  2.3088,  2.2914,  2.2566],\n",
       "          [ 0.3742,  1.3154,  1.3677,  ...,  2.3263,  2.2914,  2.2566],\n",
       "          [ 0.3568,  1.3154,  1.3677,  ...,  2.3088,  2.2914,  2.2740]]],\n",
       "\n",
       "\n",
       "        [[[ 0.7591,  0.7077,  0.6392,  ...,  0.8961,  0.9132,  0.9303],\n",
       "          [ 0.6906,  0.6392,  0.5707,  ...,  0.8618,  0.8789,  0.8961],\n",
       "          [ 0.6392,  0.5878,  0.5193,  ...,  0.8618,  0.8618,  0.8789],\n",
       "          ...,\n",
       "          [ 0.9303,  0.9132,  0.9132,  ...,  0.2967,  0.2453,  0.1939],\n",
       "          [ 0.9303,  0.9132,  0.9132,  ...,  0.3138,  0.2796,  0.2967],\n",
       "          [ 0.9303,  0.9303,  0.9132,  ...,  0.3652,  0.2967,  0.2967]],\n",
       "\n",
       "         [[ 0.9055,  0.8529,  0.7829,  ...,  1.0455,  1.0630,  1.0805],\n",
       "          [ 0.8354,  0.7829,  0.7129,  ...,  1.0105,  1.0280,  1.0455],\n",
       "          [ 0.7829,  0.7304,  0.6604,  ...,  1.0105,  1.0105,  1.0280],\n",
       "          ...,\n",
       "          [ 1.0805,  1.0630,  1.0630,  ...,  0.4328,  0.3803,  0.3277],\n",
       "          [ 1.0805,  1.0630,  1.0630,  ...,  0.4503,  0.4153,  0.4328],\n",
       "          [ 1.0805,  1.0805,  1.0630,  ...,  0.5028,  0.4328,  0.4328]],\n",
       "\n",
       "         [[ 1.1237,  1.0714,  1.0017,  ...,  1.2631,  1.2805,  1.2980],\n",
       "          [ 1.0539,  1.0017,  0.9319,  ...,  1.2282,  1.2457,  1.2631],\n",
       "          [ 1.0017,  0.9494,  0.8797,  ...,  1.2282,  1.2282,  1.2457],\n",
       "          ...,\n",
       "          [ 1.2980,  1.2805,  1.2805,  ...,  0.6531,  0.6008,  0.5485],\n",
       "          [ 1.2980,  1.2805,  1.2805,  ...,  0.6705,  0.6356,  0.6531],\n",
       "          [ 1.2980,  1.2980,  1.2805,  ...,  0.7228,  0.6531,  0.6531]]],\n",
       "\n",
       "\n",
       "        ...,\n",
       "\n",
       "\n",
       "        [[[-0.4054, -0.2513, -0.1314,  ..., -0.0801, -0.0972,  0.0227],\n",
       "          [-0.4568, -0.4054, -0.2513,  ..., -0.0458, -0.0287,  0.1083],\n",
       "          [-0.4226, -0.4054, -0.3027,  ..., -0.0287,  0.0569,  0.2111],\n",
       "          ...,\n",
       "          [-2.1179, -2.1179, -2.1179,  ...,  0.7762,  0.6734,  0.6392],\n",
       "          [-2.1179, -2.1179, -2.1179,  ...,  0.8276,  0.7762,  0.7248],\n",
       "          [-2.1179, -2.1179, -2.1179,  ...,  0.9132,  0.9474,  0.8104]],\n",
       "\n",
       "         [[-0.2850, -0.1275, -0.0049,  ...,  0.0476,  0.0301,  0.1527],\n",
       "          [-0.3375, -0.2850, -0.1275,  ...,  0.0826,  0.1001,  0.2402],\n",
       "          [-0.3025, -0.2850, -0.1800,  ...,  0.1001,  0.1877,  0.3452],\n",
       "          ...,\n",
       "          [-2.0357, -2.0357, -2.0357,  ...,  0.9230,  0.8179,  0.7829],\n",
       "          [-2.0357, -2.0357, -2.0357,  ...,  0.9755,  0.9230,  0.8704],\n",
       "          [-2.0357, -2.0357, -2.0357,  ...,  1.0630,  1.0980,  0.9580]],\n",
       "\n",
       "         [[-0.0615,  0.0953,  0.2173,  ...,  0.2696,  0.2522,  0.3742],\n",
       "          [-0.1138, -0.0615,  0.0953,  ...,  0.3045,  0.3219,  0.4614],\n",
       "          [-0.0790, -0.0615,  0.0431,  ...,  0.3219,  0.4091,  0.5659],\n",
       "          ...,\n",
       "          [-1.8044, -1.8044, -1.8044,  ...,  1.1411,  1.0365,  1.0017],\n",
       "          [-1.8044, -1.8044, -1.8044,  ...,  1.1934,  1.1411,  1.0888],\n",
       "          [-1.8044, -1.8044, -1.8044,  ...,  1.2805,  1.3154,  1.1759]]],\n",
       "\n",
       "\n",
       "        [[[ 0.0741,  0.0398, -0.0458,  ..., -0.3883, -0.2856, -0.0972],\n",
       "          [ 0.0912,  0.0227, -0.0629,  ..., -0.4739, -0.4397, -0.3712],\n",
       "          [ 0.1254,  0.0398, -0.0287,  ..., -0.4739, -0.4226, -0.3369],\n",
       "          ...,\n",
       "          [ 1.4098,  1.4440,  1.5125,  ...,  1.6495,  1.6495,  1.6324],\n",
       "          [-1.1932, -1.1932, -1.0562,  ...,  1.7180,  1.7180,  1.7180],\n",
       "          [-2.1008, -2.1008, -2.1008,  ..., -0.3883, -0.2513, -0.0629]],\n",
       "\n",
       "         [[ 0.2052,  0.1702,  0.0826,  ..., -0.2675, -0.1625,  0.0301],\n",
       "          [ 0.2227,  0.1527,  0.0651,  ..., -0.3550, -0.3200, -0.2500],\n",
       "          [ 0.2577,  0.1702,  0.1001,  ..., -0.3550, -0.3025, -0.2150],\n",
       "          ...,\n",
       "          [ 1.5707,  1.6057,  1.6758,  ...,  1.8158,  1.8158,  1.7983],\n",
       "          [-1.0903, -1.0903, -0.9503,  ...,  1.8859,  1.8859,  1.8859],\n",
       "          [-2.0182, -2.0182, -2.0182,  ..., -0.2675, -0.1275,  0.0651]],\n",
       "\n",
       "         [[ 0.4265,  0.3916,  0.3045,  ..., -0.0441,  0.0605,  0.2522],\n",
       "          [ 0.4439,  0.3742,  0.2871,  ..., -0.1312, -0.0964, -0.0267],\n",
       "          [ 0.4788,  0.3916,  0.3219,  ..., -0.1312, -0.0790,  0.0082],\n",
       "          ...,\n",
       "          [ 1.7860,  1.8208,  1.8905,  ...,  2.0300,  2.0300,  2.0125],\n",
       "          [-0.8633, -0.8633, -0.7238,  ...,  2.0997,  2.0997,  2.0997],\n",
       "          [-1.7870, -1.7870, -1.7870,  ..., -0.0441,  0.0953,  0.2871]]],\n",
       "\n",
       "\n",
       "        [[[-1.7754, -1.7754, -1.7754,  ..., -1.8097, -1.7925, -1.7925],\n",
       "          [-1.7754, -1.7754, -1.7754,  ..., -1.8097, -1.7925, -1.7925],\n",
       "          [-1.7754, -1.7754, -1.7754,  ..., -1.7925, -1.7925, -1.7925],\n",
       "          ...,\n",
       "          [ 1.6495,  1.6495,  1.6495,  ...,  1.1187,  0.9988,  0.9474],\n",
       "          [ 1.6667,  1.6667,  1.6667,  ...,  1.0159,  0.8618,  0.8104],\n",
       "          [ 1.6667,  1.6667,  1.6667,  ...,  0.9132,  0.7248,  0.6563]],\n",
       "\n",
       "         [[-1.6856, -1.6856, -1.6856,  ..., -1.7206, -1.7031, -1.7031],\n",
       "          [-1.6856, -1.6856, -1.6856,  ..., -1.7206, -1.7031, -1.7031],\n",
       "          [-1.6856, -1.6856, -1.6856,  ..., -1.7031, -1.7031, -1.7031],\n",
       "          ...,\n",
       "          [ 1.8158,  1.8158,  1.8158,  ...,  1.2731,  1.1506,  1.0980],\n",
       "          [ 1.8333,  1.8333,  1.8333,  ...,  1.1681,  1.0105,  0.9580],\n",
       "          [ 1.8333,  1.8333,  1.8333,  ...,  1.0630,  0.8704,  0.8004]],\n",
       "\n",
       "         [[-1.4559, -1.4559, -1.4559,  ..., -1.4907, -1.4733, -1.4733],\n",
       "          [-1.4559, -1.4559, -1.4559,  ..., -1.4907, -1.4733, -1.4733],\n",
       "          [-1.4559, -1.4559, -1.4559,  ..., -1.4733, -1.4733, -1.4733],\n",
       "          ...,\n",
       "          [ 2.0300,  2.0300,  2.0300,  ...,  1.4897,  1.3677,  1.3154],\n",
       "          [ 2.0474,  2.0474,  2.0474,  ...,  1.3851,  1.2282,  1.1759],\n",
       "          [ 2.0474,  2.0474,  2.0474,  ...,  1.2805,  1.0888,  1.0191]]]],\n",
       "       device='cuda:0')"
      ]
     },
     "execution_count": 97,
     "metadata": {},
     "output_type": "execute_result"
    }
   ],
   "source": [
    "batch2[2]"
   ]
  },
  {
   "cell_type": "code",
   "execution_count": 98,
   "metadata": {},
   "outputs": [
    {
     "data": {
      "text/plain": [
       "TensorCategory([0, 2, 2, 0, 0, 2, 2, 2], device='cuda:0')"
      ]
     },
     "execution_count": 98,
     "metadata": {},
     "output_type": "execute_result"
    }
   ],
   "source": [
    "batch1[3]"
   ]
  },
  {
   "cell_type": "code",
   "execution_count": 99,
   "metadata": {},
   "outputs": [
    {
     "data": {
      "text/plain": [
       "TensorCategory([0, 0, 0, 1, 1, 2, 2, 1], device='cuda:0')"
      ]
     },
     "execution_count": 99,
     "metadata": {},
     "output_type": "execute_result"
    }
   ],
   "source": [
    "batch2[3]"
   ]
  },
  {
   "cell_type": "code",
   "execution_count": 101,
   "metadata": {},
   "outputs": [],
   "source": [
    "@patch\n",
    "def show_batch(x:MixedDL):\n",
    "    \"Show a batch from multiple `DataLoaders`\"\n",
    "    for dl in x.dls:\n",
    "        dl.show_batch()"
   ]
  },
  {
   "cell_type": "code",
   "execution_count": 102,
   "metadata": {},
   "outputs": [
    {
     "data": {
      "text/html": [
       "<table border=\"1\" class=\"dataframe\">\n",
       "  <thead>\n",
       "    <tr style=\"text-align: right;\">\n",
       "      <th></th>\n",
       "      <th>sex</th>\n",
       "      <th>view</th>\n",
       "      <th>age</th>\n",
       "      <th>finding</th>\n",
       "    </tr>\n",
       "  </thead>\n",
       "  <tbody>\n",
       "    <tr>\n",
       "      <th>0</th>\n",
       "      <td>M</td>\n",
       "      <td>AP Supine</td>\n",
       "      <td>54.000000</td>\n",
       "      <td>COVID-19</td>\n",
       "    </tr>\n",
       "    <tr>\n",
       "      <th>1</th>\n",
       "      <td>M</td>\n",
       "      <td>AP</td>\n",
       "      <td>9.000000</td>\n",
       "      <td>Pneumonia</td>\n",
       "    </tr>\n",
       "    <tr>\n",
       "      <th>2</th>\n",
       "      <td>M</td>\n",
       "      <td>AP</td>\n",
       "      <td>9.000000</td>\n",
       "      <td>Pneumonia</td>\n",
       "    </tr>\n",
       "    <tr>\n",
       "      <th>3</th>\n",
       "      <td>M</td>\n",
       "      <td>AP Supine</td>\n",
       "      <td>36.000001</td>\n",
       "      <td>COVID-19</td>\n",
       "    </tr>\n",
       "    <tr>\n",
       "      <th>4</th>\n",
       "      <td>M</td>\n",
       "      <td>AP</td>\n",
       "      <td>20.999999</td>\n",
       "      <td>COVID-19</td>\n",
       "    </tr>\n",
       "    <tr>\n",
       "      <th>5</th>\n",
       "      <td>M</td>\n",
       "      <td>AP</td>\n",
       "      <td>9.000000</td>\n",
       "      <td>Pneumonia</td>\n",
       "    </tr>\n",
       "    <tr>\n",
       "      <th>6</th>\n",
       "      <td>F</td>\n",
       "      <td>PA</td>\n",
       "      <td>25.000000</td>\n",
       "      <td>Pneumonia</td>\n",
       "    </tr>\n",
       "    <tr>\n",
       "      <th>7</th>\n",
       "      <td>M</td>\n",
       "      <td>PA</td>\n",
       "      <td>36.000001</td>\n",
       "      <td>Pneumonia</td>\n",
       "    </tr>\n",
       "  </tbody>\n",
       "</table>"
      ],
      "text/plain": [
       "<IPython.core.display.HTML object>"
      ]
     },
     "metadata": {},
     "output_type": "display_data"
    },
    {
     "data": {
      "image/png": "[encoded data removed]",
      "text/plain": [
       "<Figure size 864x432 with 8 Axes>"
      ]
     },
     "metadata": {
      "needs_background": "light"
     },
     "output_type": "display_data"
    }
   ],
   "source": [
    "mixed_dl1.show_batch()"
   ]
  },
  {
   "cell_type": "code",
   "execution_count": 104,
   "metadata": {},
   "outputs": [],
   "source": [
    "dls = DataLoaders(mixed_dl1, mixed_dl2)"
   ]
  }
 ],
 "metadata": {
  "environment": {
   "name": "pytorch-gpu.1-4.m46",
   "type": "gcloud",
   "uri": "gcr.io/deeplearning-platform-release/pytorch-gpu.1-4:m46"
  },
  "kernelspec": {
   "display_name": "Python 3",
   "language": "python",
   "name": "python3"
  },
  "language_info": {
   "codemirror_mode": {
    "name": "ipython",
    "version": 3
   },
   "file_extension": ".py",
   "mimetype": "text/x-python",
   "name": "python",
   "nbconvert_exporter": "python",
   "pygments_lexer": "ipython3",
   "version": "3.7.6"
  }
 },
 "nbformat": 4,
 "nbformat_minor": 4
}
