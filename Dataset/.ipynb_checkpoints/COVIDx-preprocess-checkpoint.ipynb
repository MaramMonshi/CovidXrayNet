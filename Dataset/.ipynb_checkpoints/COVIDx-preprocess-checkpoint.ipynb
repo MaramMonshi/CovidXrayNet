{
 "cells": [
  {
   "cell_type": "markdown",
   "metadata": {},
   "source": [
    "# Pre-Process COVIDx Dataset"
   ]
  },
  {
   "cell_type": "code",
   "execution_count": 60,
   "metadata": {},
   "outputs": [],
   "source": [
    "from fastai2.vision.all import *\n",
    "import os.path\n",
    "path = Path('/home/jupyter/covidx')"
   ]
  },
  {
   "cell_type": "code",
   "execution_count": 61,
   "metadata": {},
   "outputs": [],
   "source": [
    "torch.cuda.empty_cache()"
   ]
  },
  {
   "cell_type": "code",
   "execution_count": 62,
   "metadata": {},
   "outputs": [],
   "source": [
    "# fix result \n",
    "def seed_everything(seed):\n",
    "    random.seed(seed)\n",
    "    os.environ['PYTHONHASHSEED'] = str(seed)\n",
    "    np.random.seed(seed)\n",
    "    torch.manual_seed(seed)\n",
    "    torch.cuda.manual_seed_all(seed)\n",
    "    torch.cuda.manual_seed(seed)\n",
    "    torch.backends.cudnn.deterministic = True\n",
    "SEED = 42\n",
    "seed_everything(SEED)"
   ]
  },
  {
   "cell_type": "markdown",
   "metadata": {},
   "source": [
    "## 1. View COVIDx"
   ]
  },
  {
   "cell_type": "code",
   "execution_count": 69,
   "metadata": {},
   "outputs": [
    {
     "data": {
      "text/plain": [
       "13917"
      ]
     },
     "execution_count": 69,
     "metadata": {},
     "output_type": "execute_result"
    }
   ],
   "source": [
    "path = Path('/home/jupyter/covidx/train')\n",
    "folder_train = len([f for f in os.listdir(path)if os.path.isfile(os.path.join(path, f))])\n",
    "folder_train"
   ]
  },
  {
   "cell_type": "code",
   "execution_count": 3,
   "metadata": {},
   "outputs": [
    {
     "data": {
      "text/plain": [
       "1580"
      ]
     },
     "execution_count": 3,
     "metadata": {},
     "output_type": "execute_result"
    }
   ],
   "source": [
    "path = Path('/home/jupyter/covidx/test')\n",
    "folder_test = len([f for f in os.listdir(path)if os.path.isfile(os.path.join(path, f))])\n",
    "folder_test"
   ]
  },
  {
   "cell_type": "code",
   "execution_count": 67,
   "metadata": {},
   "outputs": [
    {
     "data": {
      "text/html": [
       "<div>\n",
       "<style scoped>\n",
       "    .dataframe tbody tr th:only-of-type {\n",
       "        vertical-align: middle;\n",
       "    }\n",
       "\n",
       "    .dataframe tbody tr th {\n",
       "        vertical-align: top;\n",
       "    }\n",
       "\n",
       "    .dataframe thead th {\n",
       "        text-align: right;\n",
       "    }\n",
       "</style>\n",
       "<table border=\"1\" class=\"dataframe\">\n",
       "  <thead>\n",
       "    <tr style=\"text-align: right;\">\n",
       "      <th></th>\n",
       "      <th>3</th>\n",
       "      <th>SARS-10.1148rg.242035193-g04mr34g0-Fig8b-day5.jpeg</th>\n",
       "      <th>pneumonia</th>\n",
       "      <th>cohen</th>\n",
       "    </tr>\n",
       "  </thead>\n",
       "  <tbody>\n",
       "    <tr>\n",
       "      <th>0</th>\n",
       "      <td>3</td>\n",
       "      <td>SARS-10.1148rg.242035193-g04mr34g0-Fig8c-day10.jpeg</td>\n",
       "      <td>pneumonia</td>\n",
       "      <td>cohen</td>\n",
       "    </tr>\n",
       "    <tr>\n",
       "      <th>1</th>\n",
       "      <td>7</td>\n",
       "      <td>SARS-10.1148rg.242035193-g04mr34g04a-Fig4a-day7.jpeg</td>\n",
       "      <td>pneumonia</td>\n",
       "      <td>cohen</td>\n",
       "    </tr>\n",
       "    <tr>\n",
       "      <th>2</th>\n",
       "      <td>7</td>\n",
       "      <td>SARS-10.1148rg.242035193-g04mr34g04b-Fig4b-day12.jpeg</td>\n",
       "      <td>pneumonia</td>\n",
       "      <td>cohen</td>\n",
       "    </tr>\n",
       "    <tr>\n",
       "      <th>3</th>\n",
       "      <td>9</td>\n",
       "      <td>SARS-10.1148rg.242035193-g04mr34g07a-Fig7a-day5.jpeg</td>\n",
       "      <td>pneumonia</td>\n",
       "      <td>cohen</td>\n",
       "    </tr>\n",
       "    <tr>\n",
       "      <th>4</th>\n",
       "      <td>9</td>\n",
       "      <td>SARS-10.1148rg.242035193-g04mr34g07b-Fig7b-day12.jpeg</td>\n",
       "      <td>pneumonia</td>\n",
       "      <td>cohen</td>\n",
       "    </tr>\n",
       "    <tr>\n",
       "      <th>...</th>\n",
       "      <td>...</td>\n",
       "      <td>...</td>\n",
       "      <td>...</td>\n",
       "      <td>...</td>\n",
       "    </tr>\n",
       "    <tr>\n",
       "      <th>13911</th>\n",
       "      <td>c1628c47-5ba3-42dd-8df3-7ad3abd57ad0</td>\n",
       "      <td>c1628c47-5ba3-42dd-8df3-7ad3abd57ad0.png</td>\n",
       "      <td>pneumonia</td>\n",
       "      <td>rsna</td>\n",
       "    </tr>\n",
       "    <tr>\n",
       "      <th>13912</th>\n",
       "      <td>c1cddf32-b957-4753-acaa-472ab1447e86</td>\n",
       "      <td>c1cddf32-b957-4753-acaa-472ab1447e86.png</td>\n",
       "      <td>pneumonia</td>\n",
       "      <td>rsna</td>\n",
       "    </tr>\n",
       "    <tr>\n",
       "      <th>13913</th>\n",
       "      <td>c1e73a4e-7afe-4ec5-8af6-ce8315d7a2f2</td>\n",
       "      <td>c1e73a4e-7afe-4ec5-8af6-ce8315d7a2f2.png</td>\n",
       "      <td>pneumonia</td>\n",
       "      <td>rsna</td>\n",
       "    </tr>\n",
       "    <tr>\n",
       "      <th>13914</th>\n",
       "      <td>c1ec14ff-f6d7-4b38-b0cb-fe07041cbdc8</td>\n",
       "      <td>c1ec14ff-f6d7-4b38-b0cb-fe07041cbdc8.png</td>\n",
       "      <td>pneumonia</td>\n",
       "      <td>rsna</td>\n",
       "    </tr>\n",
       "    <tr>\n",
       "      <th>13915</th>\n",
       "      <td>c1f7889a-9ea9-4acb-b64c-b737c929599a</td>\n",
       "      <td>c1f7889a-9ea9-4acb-b64c-b737c929599a.png</td>\n",
       "      <td>pneumonia</td>\n",
       "      <td>rsna</td>\n",
       "    </tr>\n",
       "  </tbody>\n",
       "</table>\n",
       "<p>13916 rows × 4 columns</p>\n",
       "</div>"
      ],
      "text/plain": [
       "                                          3  \\\n",
       "0                                         3   \n",
       "1                                         7   \n",
       "2                                         7   \n",
       "3                                         9   \n",
       "4                                         9   \n",
       "...                                     ...   \n",
       "13911  c1628c47-5ba3-42dd-8df3-7ad3abd57ad0   \n",
       "13912  c1cddf32-b957-4753-acaa-472ab1447e86   \n",
       "13913  c1e73a4e-7afe-4ec5-8af6-ce8315d7a2f2   \n",
       "13914  c1ec14ff-f6d7-4b38-b0cb-fe07041cbdc8   \n",
       "13915  c1f7889a-9ea9-4acb-b64c-b737c929599a   \n",
       "\n",
       "          SARS-10.1148rg.242035193-g04mr34g0-Fig8b-day5.jpeg  pneumonia  cohen  \n",
       "0        SARS-10.1148rg.242035193-g04mr34g0-Fig8c-day10.jpeg  pneumonia  cohen  \n",
       "1       SARS-10.1148rg.242035193-g04mr34g04a-Fig4a-day7.jpeg  pneumonia  cohen  \n",
       "2      SARS-10.1148rg.242035193-g04mr34g04b-Fig4b-day12.jpeg  pneumonia  cohen  \n",
       "3       SARS-10.1148rg.242035193-g04mr34g07a-Fig7a-day5.jpeg  pneumonia  cohen  \n",
       "4      SARS-10.1148rg.242035193-g04mr34g07b-Fig7b-day12.jpeg  pneumonia  cohen  \n",
       "...                                                      ...        ...    ...  \n",
       "13911               c1628c47-5ba3-42dd-8df3-7ad3abd57ad0.png  pneumonia   rsna  \n",
       "13912               c1cddf32-b957-4753-acaa-472ab1447e86.png  pneumonia   rsna  \n",
       "13913               c1e73a4e-7afe-4ec5-8af6-ce8315d7a2f2.png  pneumonia   rsna  \n",
       "13914               c1ec14ff-f6d7-4b38-b0cb-fe07041cbdc8.png  pneumonia   rsna  \n",
       "13915               c1f7889a-9ea9-4acb-b64c-b737c929599a.png  pneumonia   rsna  \n",
       "\n",
       "[13916 rows x 4 columns]"
      ]
     },
     "execution_count": 67,
     "metadata": {},
     "output_type": "execute_result"
    }
   ],
   "source": [
    "path = Path('/home/jupyter/covidx')\n",
    "df_train = pd.read_csv(path/'covidx_train.csv')\n",
    "df_train"
   ]
  },
  {
   "cell_type": "code",
   "execution_count": 66,
   "metadata": {},
   "outputs": [
    {
     "data": {
      "text/html": [
       "<div>\n",
       "<style scoped>\n",
       "    .dataframe tbody tr th:only-of-type {\n",
       "        vertical-align: middle;\n",
       "    }\n",
       "\n",
       "    .dataframe tbody tr th {\n",
       "        vertical-align: top;\n",
       "    }\n",
       "\n",
       "    .dataframe thead th {\n",
       "        text-align: right;\n",
       "    }\n",
       "</style>\n",
       "<table border=\"1\" class=\"dataframe\">\n",
       "  <thead>\n",
       "    <tr style=\"text-align: right;\">\n",
       "      <th></th>\n",
       "      <th>8</th>\n",
       "      <th>SARS-10.1148rg.242035193-g04mr34g05x-Fig5-day9.jpeg</th>\n",
       "      <th>pneumonia</th>\n",
       "      <th>cohen</th>\n",
       "    </tr>\n",
       "  </thead>\n",
       "  <tbody>\n",
       "    <tr>\n",
       "      <th>0</th>\n",
       "      <td>31</td>\n",
       "      <td>streptococcus-pneumoniae-pneumonia-temporal-evolution-1-day0.jpg</td>\n",
       "      <td>pneumonia</td>\n",
       "      <td>cohen</td>\n",
       "    </tr>\n",
       "    <tr>\n",
       "      <th>1</th>\n",
       "      <td>31</td>\n",
       "      <td>streptococcus-pneumoniae-pneumonia-temporal-evolution-1-day1.jpg</td>\n",
       "      <td>pneumonia</td>\n",
       "      <td>cohen</td>\n",
       "    </tr>\n",
       "    <tr>\n",
       "      <th>2</th>\n",
       "      <td>31</td>\n",
       "      <td>streptococcus-pneumoniae-pneumonia-temporal-evolution-1-day2.jpg</td>\n",
       "      <td>pneumonia</td>\n",
       "      <td>cohen</td>\n",
       "    </tr>\n",
       "    <tr>\n",
       "      <th>3</th>\n",
       "      <td>31</td>\n",
       "      <td>streptococcus-pneumoniae-pneumonia-temporal-evolution-1-day3.jpg</td>\n",
       "      <td>pneumonia</td>\n",
       "      <td>cohen</td>\n",
       "    </tr>\n",
       "    <tr>\n",
       "      <th>4</th>\n",
       "      <td>19</td>\n",
       "      <td>1-s2.0-S0929664620300449-gr2_lrg-a.jpg</td>\n",
       "      <td>COVID-19</td>\n",
       "      <td>cohen</td>\n",
       "    </tr>\n",
       "    <tr>\n",
       "      <th>...</th>\n",
       "      <td>...</td>\n",
       "      <td>...</td>\n",
       "      <td>...</td>\n",
       "      <td>...</td>\n",
       "    </tr>\n",
       "    <tr>\n",
       "      <th>1573</th>\n",
       "      <td>2c917d3a-95cb-4c11-802c-f83e28cb37bc</td>\n",
       "      <td>2c917d3a-95cb-4c11-802c-f83e28cb37bc.png</td>\n",
       "      <td>pneumonia</td>\n",
       "      <td>rsna</td>\n",
       "    </tr>\n",
       "    <tr>\n",
       "      <th>1574</th>\n",
       "      <td>3040d9d7-d895-453f-887c-616c10531960</td>\n",
       "      <td>3040d9d7-d895-453f-887c-616c10531960.png</td>\n",
       "      <td>pneumonia</td>\n",
       "      <td>rsna</td>\n",
       "    </tr>\n",
       "    <tr>\n",
       "      <th>1575</th>\n",
       "      <td>c07f52df-d481-434f-84c1-04263926ac40</td>\n",
       "      <td>c07f52df-d481-434f-84c1-04263926ac40.png</td>\n",
       "      <td>pneumonia</td>\n",
       "      <td>rsna</td>\n",
       "    </tr>\n",
       "    <tr>\n",
       "      <th>1576</th>\n",
       "      <td>c109061a-d815-4cae-8343-9230d8024adf</td>\n",
       "      <td>c109061a-d815-4cae-8343-9230d8024adf.png</td>\n",
       "      <td>pneumonia</td>\n",
       "      <td>rsna</td>\n",
       "    </tr>\n",
       "    <tr>\n",
       "      <th>1577</th>\n",
       "      <td>c18d1138-ba74-4af5-af21-bdd4d2c96bb5</td>\n",
       "      <td>c18d1138-ba74-4af5-af21-bdd4d2c96bb5.png</td>\n",
       "      <td>pneumonia</td>\n",
       "      <td>rsna</td>\n",
       "    </tr>\n",
       "  </tbody>\n",
       "</table>\n",
       "<p>1578 rows × 4 columns</p>\n",
       "</div>"
      ],
      "text/plain": [
       "                                         8  \\\n",
       "0                                       31   \n",
       "1                                       31   \n",
       "2                                       31   \n",
       "3                                       31   \n",
       "4                                       19   \n",
       "...                                    ...   \n",
       "1573  2c917d3a-95cb-4c11-802c-f83e28cb37bc   \n",
       "1574  3040d9d7-d895-453f-887c-616c10531960   \n",
       "1575  c07f52df-d481-434f-84c1-04263926ac40   \n",
       "1576  c109061a-d815-4cae-8343-9230d8024adf   \n",
       "1577  c18d1138-ba74-4af5-af21-bdd4d2c96bb5   \n",
       "\n",
       "                   SARS-10.1148rg.242035193-g04mr34g05x-Fig5-day9.jpeg  \\\n",
       "0     streptococcus-pneumoniae-pneumonia-temporal-evolution-1-day0.jpg   \n",
       "1     streptococcus-pneumoniae-pneumonia-temporal-evolution-1-day1.jpg   \n",
       "2     streptococcus-pneumoniae-pneumonia-temporal-evolution-1-day2.jpg   \n",
       "3     streptococcus-pneumoniae-pneumonia-temporal-evolution-1-day3.jpg   \n",
       "4                               1-s2.0-S0929664620300449-gr2_lrg-a.jpg   \n",
       "...                                                                ...   \n",
       "1573                          2c917d3a-95cb-4c11-802c-f83e28cb37bc.png   \n",
       "1574                          3040d9d7-d895-453f-887c-616c10531960.png   \n",
       "1575                          c07f52df-d481-434f-84c1-04263926ac40.png   \n",
       "1576                          c109061a-d815-4cae-8343-9230d8024adf.png   \n",
       "1577                          c18d1138-ba74-4af5-af21-bdd4d2c96bb5.png   \n",
       "\n",
       "      pneumonia  cohen  \n",
       "0     pneumonia  cohen  \n",
       "1     pneumonia  cohen  \n",
       "2     pneumonia  cohen  \n",
       "3     pneumonia  cohen  \n",
       "4      COVID-19  cohen  \n",
       "...         ...    ...  \n",
       "1573  pneumonia   rsna  \n",
       "1574  pneumonia   rsna  \n",
       "1575  pneumonia   rsna  \n",
       "1576  pneumonia   rsna  \n",
       "1577  pneumonia   rsna  \n",
       "\n",
       "[1578 rows x 4 columns]"
      ]
     },
     "execution_count": 66,
     "metadata": {},
     "output_type": "execute_result"
    }
   ],
   "source": [
    "path = Path('/home/jupyter/covidx')\n",
    "df_test = pd.read_csv(path/'covidx_test.csv')\n",
    "df_test"
   ]
  },
  {
   "cell_type": "markdown",
   "metadata": {},
   "source": [
    "## 2. Combine Images"
   ]
  },
  {
   "cell_type": "code",
   "execution_count": 71,
   "metadata": {},
   "outputs": [
    {
     "data": {
      "text/plain": [
       "15496"
      ]
     },
     "execution_count": 71,
     "metadata": {},
     "output_type": "execute_result"
    }
   ],
   "source": [
    "# run this line in the terminal\n",
    "# mv /home/jupyter/covidx/test/* /home/jupyter/covidx/images\n",
    "path = Path('/home/jupyter/covidx/images') \n",
    "folder_images = len([f for f in os.listdir(path)if os.path.isfile(os.path.join(path, f))])\n",
    "folder_images"
   ]
  },
  {
   "cell_type": "markdown",
   "metadata": {},
   "source": [
    "## 3. Join CSVs & Split COVIDx by is_valid Column"
   ]
  },
  {
   "cell_type": "code",
   "execution_count": 73,
   "metadata": {},
   "outputs": [],
   "source": [
    "path = Path('/home/jupyter/covidx')\n",
    "# add Headers\n",
    "df_train = pd.read_csv(path/\"covidx_train.csv\", names=['patientid', 'path', 'finding', 'source'])\n",
    "df_test = pd.read_csv(path/\"covidx_test.csv\", names=['patientid', 'path', 'finding', 'source'])\n",
    "# add is_valid col\n",
    "df_train['is_valid'] = True\n",
    "df_test['is_valid'] = False"
   ]
  },
  {
   "cell_type": "code",
   "execution_count": 69,
   "metadata": {},
   "outputs": [
    {
     "name": "stdout",
     "output_type": "stream",
     "text": [
      "<class 'pandas.core.frame.DataFrame'>\n",
      "RangeIndex: 13916 entries, 0 to 13915\n",
      "Data columns (total 5 columns):\n",
      " #   Column                                              Non-Null Count  Dtype \n",
      "---  ------                                              --------------  ----- \n",
      " 0   3                                                   13916 non-null  object\n",
      " 1   SARS-10.1148rg.242035193-g04mr34g0-Fig8b-day5.jpeg  13916 non-null  object\n",
      " 2   pneumonia                                           13916 non-null  object\n",
      " 3   cohen                                               13916 non-null  object\n",
      " 4   is_valid                                            13916 non-null  bool  \n",
      "dtypes: bool(1), object(4)\n",
      "memory usage: 448.6+ KB\n"
     ]
    }
   ],
   "source": [
    "df_train.info()"
   ]
  },
  {
   "cell_type": "code",
   "execution_count": 74,
   "metadata": {},
   "outputs": [
    {
     "name": "stdout",
     "output_type": "stream",
     "text": [
      "<class 'pandas.core.frame.DataFrame'>\n",
      "Int64Index: 15496 entries, 0 to 1578\n",
      "Data columns (total 5 columns):\n",
      " #   Column     Non-Null Count  Dtype \n",
      "---  ------     --------------  ----- \n",
      " 0   patientid  15496 non-null  object\n",
      " 1   path       15496 non-null  object\n",
      " 2   finding    15496 non-null  object\n",
      " 3   source     15496 non-null  object\n",
      " 4   is_valid   15496 non-null  bool  \n",
      "dtypes: bool(1), object(4)\n",
      "memory usage: 620.4+ KB\n"
     ]
    }
   ],
   "source": [
    "# stack the data frames on top of each other\n",
    "frames = [df_train, df_test] \n",
    "df_covidx = pd.concat(frames)\n",
    "df_covidx.to_csv( path/\"covidx.csv\", index=False, encoding='utf-8-sig')\n",
    "df_covidx.info()"
   ]
  },
  {
   "cell_type": "code",
   "execution_count": 75,
   "metadata": {},
   "outputs": [
    {
     "data": {
      "text/plain": [
       "True     13917\n",
       "False     1579\n",
       "Name: is_valid, dtype: int64"
      ]
     },
     "execution_count": 75,
     "metadata": {},
     "output_type": "execute_result"
    }
   ],
   "source": [
    "df_covidx['is_valid'].value_counts()"
   ]
  },
  {
   "cell_type": "code",
   "execution_count": null,
   "metadata": {},
   "outputs": [],
   "source": []
  }
 ],
 "metadata": {
  "environment": {
   "name": "pytorch-gpu.1-4.m46",
   "type": "gcloud",
   "uri": "gcr.io/deeplearning-platform-release/pytorch-gpu.1-4:m46"
  },
  "kernelspec": {
   "display_name": "Python 3",
   "language": "python",
   "name": "python3"
  },
  "language_info": {
   "codemirror_mode": {
    "name": "ipython",
    "version": 3
   },
   "file_extension": ".py",
   "mimetype": "text/x-python",
   "name": "python",
   "nbconvert_exporter": "python",
   "pygments_lexer": "ipython3",
   "version": "3.7.6"
  }
 },
 "nbformat": 4,
 "nbformat_minor": 4
}
